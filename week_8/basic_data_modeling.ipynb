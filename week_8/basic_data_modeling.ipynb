{
 "cells": [
  {
   "cell_type": "markdown",
   "metadata": {
    "cell_id": "00000-2a89d9df-aa26-471d-ae3a-6501d45aa935",
    "deepnote_cell_type": "markdown",
    "output_cleared": false,
    "slideshow": {
     "slide_type": "-"
    }
   },
   "source": [
    "# Data Modeling\n",
    "\n",
    "## Fitting a line\n",
    "\n",
    "AKA Linear Regression\n",
    "\n",
    "We are going to start with something that should be familiar: correlation coefficients and fitting a line.   \n"
   ]
  },
  {
   "cell_type": "code",
   "execution_count": 1,
   "metadata": {
    "cell_id": "00001-640a1200-cf9e-4864-9032-703b853358bc",
    "deepnote_cell_type": "code",
    "execution_millis": 1493,
    "execution_start": 1602193434620,
    "output_cleared": false,
    "slideshow": {
     "slide_type": "-"
    },
    "source_hash": "97ccac17",
    "tags": [
     "remove_cell"
    ]
   },
   "outputs": [],
   "source": [
    "import numpy as np\n",
    "import pandas as pd\n",
    "import matplotlib.pyplot as plt\n",
    "import warnings\n",
    "warnings.simplefilter(\"ignore\")\n",
    "from mpl_toolkits.mplot3d import Axes3D\n",
    "from matplotlib import patches\n",
    "%matplotlib inline\n",
    "from sklearn.metrics import mean_squared_error\n",
    "from ipywidgets import interact, interactive, fixed\n",
    "import ipywidgets as widgets"
   ]
  },
  {
   "cell_type": "code",
   "execution_count": null,
   "metadata": {},
   "outputs": [],
   "source": [
    "\n",
    "# Generate some data. \n",
    "np.random.seed(42)\n",
    "\n",
    "#Choose x randomly and uniformly from 0 to 10,\n",
    "x = np.random.uniform(0, 10, 100)\n",
    "#draw 100 numbers from from a gaussian distribiution with a stadard deviation of 4\n",
    "noise = np.random.randn(100) * 4\n",
    "#create a simply linear model for our demo y values\n",
    "y = 1.5 * x + noise"
   ]
  },
  {
   "cell_type": "code",
   "execution_count": 25,
   "metadata": {},
   "outputs": [
    {
     "data": {
      "image/png": "[encoded data removed]",
      "text/plain": "<Figure size 576x432 with 1 Axes>"
     },
     "metadata": {
      "needs_background": "light"
     },
     "output_type": "display_data"
    }
   ],
   "source": [
    "plt.figure()\n",
    "plt.scatter(x, y)\n",
    "plt.xlabel('x')\n",
    "plt.ylabel('y');"
   ]
  },
  {
   "cell_type": "markdown",
   "metadata": {
    "cell_id": "00004-cd2377ca-f768-4336-bdb5-ebbf901dd71c",
    "deepnote_cell_type": "markdown",
    "output_cleared": false,
    "slideshow": {
     "slide_type": "-"
    }
   },
   "source": [
    "You have learned about the **correlation coefficient** $r$, which is a measure of the strength of the linear relationship between the two variables.\n",
    "\n",
    "\n",
    "First, let's convert the data (stored in the arrays `x` and `y`) to standard units or a **Z score**.  To convert a set of data points to standard units, we subtract out the mean of the data and scale by the standard deviation. This has the effect of changing the data so that the data in standard units have mean 0 and  standard deviation 1. Below we construct a function that does this.\n",
    "\n",
    "$$\n",
    "Z = \\dfrac{x - \\mu_x}{\\sigma_x}\n",
    "$$"
   ]
  },
  {
   "cell_type": "markdown",
   "metadata": {},
   "source": [
    "For our convenience later.  Let's make the Z score calculation into a function:"
   ]
  },
  {
   "cell_type": "code",
   "execution_count": 27,
   "metadata": {
    "cell_id": "00005-37939845-f1d0-403b-9cce-af60e4f32862",
    "deepnote_cell_type": "code",
    "execution_millis": 4,
    "execution_start": 1602193450703,
    "output_cleared": false,
    "slideshow": {
     "slide_type": "-"
    },
    "source_hash": "5ce7c53c"
   },
   "outputs": [],
   "source": [
    "\n",
    "def standard_units(x):\n",
    "    return (x - np.mean(x)) / np.std(x)\n"
   ]
  },
  {
   "cell_type": "code",
   "execution_count": 28,
   "metadata": {
    "cell_id": "00007-d90257fd-6eb7-489d-900d-3331eee693da",
    "deepnote_cell_type": "code",
    "execution_millis": 2,
    "execution_start": 1602193452924,
    "output_cleared": false,
    "source_hash": "4c4cb9f9"
   },
   "outputs": [],
   "source": [
    "#Now let's convert our data into z scores\n",
    "x_standard = standard_units(x)\n",
    "y_standard = standard_units(y)"
   ]
  },
  {
   "cell_type": "code",
   "execution_count": 29,
   "metadata": {
    "cell_id": "00008-8a23c584-ec21-4ff6-845e-426c7437cfb3",
    "deepnote_cell_type": "code",
    "execution_millis": 700,
    "execution_start": 1602193454797,
    "output_cleared": false,
    "slideshow": {
     "slide_type": "-"
    },
    "source_hash": "1c53c7da",
    "tags": [
     "remove_input"
    ]
   },
   "outputs": [
    {
     "data": {
      "image/png": "[encoded data removed]",
      "text/plain": "<Figure size 576x432 with 1 Axes>"
     },
     "metadata": {
      "needs_background": "light"
     },
     "output_type": "display_data"
    }
   ],
   "source": [
    "plt.figure(figsize=(8,6))\n",
    "plt.scatter(x_standard, y_standard)\n",
    "plt.xlabel('$x_{standard}$')\n",
    "plt.ylabel('$y_{standard}$');"
   ]
  },
  {
   "cell_type": "markdown",
   "metadata": {
    "cell_id": "00009-30e7d9a2-6f54-415d-bbea-62386da91c57",
    "deepnote_cell_type": "markdown",
    "output_cleared": false
   },
   "source": [
    "The plot looks the same as before, except now the axes are scaled such that we measure $x$ and $y$ in standard units. \n",
    "\n",
    "Now, a crazy thing is that the correlation coeffiecient $r$ is calculated as just the mean of the product of two variables, when the variables are measured in standard units! Below we define a function that calculates $r$, assuming that the inputs have already been converted to standard units."
   ]
  },
  {
   "cell_type": "code",
   "execution_count": 30,
   "metadata": {
    "cell_id": "00010-f9b0fd74-2c47-43c6-92f7-d2bd7298e307",
    "deepnote_cell_type": "code",
    "execution_millis": 2,
    "execution_start": 1602193456334,
    "output_cleared": false,
    "source_hash": "83ce6264"
   },
   "outputs": [],
   "source": [
    "def correlation(array1, array2):\n",
    "    return np.mean(array1 * array2)"
   ]
  },
  {
   "cell_type": "markdown",
   "metadata": {
    "cell_id": "00011-e11b8839-6c95-4e1d-931c-0802d16cb75c",
    "deepnote_cell_type": "markdown",
    "output_cleared": false,
    "slideshow": {
     "slide_type": "-"
    }
   },
   "source": [
    "The correlation between these two variable can now be calculated through this function:"
   ]
  },
  {
   "cell_type": "code",
   "execution_count": 31,
   "metadata": {
    "cell_id": "00012-9abf45e2-7922-4916-96e0-60c2acba16c6",
    "deepnote_cell_type": "code",
    "execution_millis": 10,
    "execution_start": 1602193457530,
    "output_cleared": false,
    "source_hash": "daaa4672"
   },
   "outputs": [
    {
     "data": {
      "text/plain": "0.7351364076052979"
     },
     "execution_count": 31,
     "metadata": {},
     "output_type": "execute_result"
    }
   ],
   "source": [
    "correlation(x_standard, y_standard)"
   ]
  },
  {
   "cell_type": "code",
   "execution_count": 32,
   "metadata": {},
   "outputs": [
    {
     "data": {
      "text/plain": "array([[1.        , 0.73513641],\n       [0.73513641, 1.        ]])"
     },
     "execution_count": 32,
     "metadata": {},
     "output_type": "execute_result"
    }
   ],
   "source": [
    "#We can use numpy function corrcoef() to get the correlation\n",
    "np.corrcoef(x,y)"
   ]
  },
  {
   "cell_type": "code",
   "execution_count": 33,
   "metadata": {},
   "outputs": [
    {
     "name": "stdout",
     "output_type": "stream",
     "text": [
      "0.7351364076052977\n"
     ]
    }
   ],
   "source": [
    "\n",
    "correlation_matrix = np.corrcoef(x,y)\n",
    "r = correlation_matrix[0,1]\n",
    "print(r)"
   ]
  },
  {
   "cell_type": "markdown",
   "metadata": {
    "cell_id": "00013-0b8da561-cfe1-4c7e-bcde-8d894ec07a31",
    "deepnote_cell_type": "markdown",
    "output_cleared": false
   },
   "source": [
    "We can use $r$ to form a line called a *regression line*, or *best fit line* which makes predictions for $y$ given some $x$. Our prediction for $y$ in standard units is $r \\cdot x$. If we want to fit this regression line in the original units, recall that the slope of this line is given by\n",
    "\n",
    "$$\n",
    "\\text{slope} = r \\cdot \\dfrac{\\hat{\\sigma}_y}{\\hat{\\sigma}_x}\n",
    "$$\n",
    "\n",
    "and the intercept is given by\n",
    "\n",
    "$$\n",
    "\\text{intercept} = \\hat{\\mu}_y - \\text{slope} \\cdot \\hat{\\mu}_x\n",
    "$$\n",
    "\n",
    "where $\\hat{\\sigma}_x$ is the observed standard deviation of a variable $x$ and $\\hat{\\mu}_x$ is the observed mean. Our regression line will have the form\n",
    "\n",
    "$$\n",
    "y = \\hat{\\alpha} + \\hat{\\beta} x\n",
    "$$\n",
    "\n",
    "where $\\hat{\\alpha}$ is the intercept from above and $\\hat{\\beta}$ the slope.\n",
    "\n",
    "Below we plot this line."
   ]
  },
  {
   "cell_type": "code",
   "execution_count": 34,
   "metadata": {
    "cell_id": "00014-870df1c5-2529-4b2e-9378-17e0f6e6eb7d",
    "deepnote_cell_type": "code",
    "execution_millis": 10,
    "execution_start": 1602193458539,
    "output_cleared": false,
    "source_hash": "892df0aa"
   },
   "outputs": [],
   "source": [
    "r = correlation(x_standard, y_standard)\n",
    "slope = r * np.std(y) / np.std(x)\n",
    "intercept = np.mean(y) - slope * np.mean(x)"
   ]
  },
  {
   "cell_type": "code",
   "execution_count": 59,
   "metadata": {
    "cell_id": "00015-2f62e2bc-0619-40ed-8003-943be8d10d3e",
    "deepnote_cell_type": "code",
    "execution_millis": 261,
    "execution_start": 1602193459192,
    "output_cleared": false,
    "source_hash": "163797f8",
    "tags": [
     "remove_input"
    ]
   },
   "outputs": [
    {
     "data": {
      "image/png": "[encoded data removed]",
      "text/plain": "<Figure size 432x288 with 1 Axes>"
     },
     "metadata": {
      "needs_background": "light"
     },
     "output_type": "display_data"
    }
   ],
   "source": [
    "plt.scatter(x, y)\n",
    "\n",
    "#Use the equation of a line to draw the line\n",
    "fitLineX = np.linspace(0, 10)\n",
    "fitLineY = slope * np.linspace(0, 10) + intercept\n",
    "\n",
    "plt.plot(fitLineX, fitLineY, color='tab:orange')\n",
    "plt.xlabel('x')\n",
    "plt.ylabel('y');"
   ]
  },
  {
   "cell_type": "markdown",
   "metadata": {
    "cell_id": "00017-12ed93d7-8c1c-408e-a851-d4d20f11e09d",
    "deepnote_cell_type": "markdown",
    "output_cleared": false,
    "tags": []
   },
   "source": [
    "## Introduction to scikit-learn for Regression"
   ]
  },
  {
   "cell_type": "markdown",
   "metadata": {
    "cell_id": "00017-2b43e85d-c107-4a2f-a59c-802056903aa3",
    "deepnote_cell_type": "markdown",
    "output_cleared": false,
    "tags": []
   },
   "source": [
    "Ok.  That was a bit of a faff.  But now that you understand how to manually calculate the slope and intercept and draw a line. Next we can introduce a python package called `scikit-learn`, which can be used to fit a wide variety of statistical and machine learning models.  It is an extremely powerful package.  With a very well thought out interface that enables scaling to larger problems and more complicated methods straightforward.    \n",
    "\n",
    "\n"
   ]
  },
  {
   "cell_type": "markdown",
   "metadata": {},
   "source": []
  },
  {
   "cell_type": "code",
   "execution_count": 38,
   "metadata": {
    "cell_id": "00019-516f4dee-6094-4f6b-9f6c-149ad1f043e8",
    "deepnote_cell_type": "code",
    "execution_millis": 1122,
    "execution_start": 1602193461139,
    "output_cleared": false,
    "source_hash": "f5a59c66",
    "tags": []
   },
   "outputs": [],
   "source": [
    "#sklearn is the name of scikit-learn package.   It is very large, and does a lot of things\n",
    "#So here we are just going to import the linear_model part as lm.  \n",
    "from sklearn import linear_model as lm"
   ]
  },
  {
   "cell_type": "markdown",
   "metadata": {
    "cell_id": "00020-e62b6602-d7cd-4e24-974c-1fc4a6fa7d3c",
    "deepnote_cell_type": "markdown",
    "output_cleared": false,
    "tags": []
   },
   "source": [
    "With this linear_model package, we can fit a wide variety of regression models, but as stated before, the focus of this will be \"Ordinary Least Squares\" (OLS) regression. The first thing we need to do is to fit the model based on our data. `lm.fit()` takes two arguments: the first is what’s called a “design matrix,” or X, and the second is the vector of true values, or y.\n",
    "\n",
    "A design matrix ‘X’ is essentially a table containing all of the predictor values, with a row for each data point, and a column for each variable being used for prediction. In the case of single variable regression, the design matrix will only have one column, but it’s important to keep in mind that the `.fit` method will only accept a table or pandas DataFrame, rather than an array or Series. \n",
    "\n",
    "The vector of true values is just that— an array or Series containing the true y values of the variable we want to predict. This should always be a single column.\n",
    "\n",
    "\n",
    "A warning that this way is overcomplicated for our single line goal.   But provides a groundwork and easier utilization for future more complicated scenarios. "
   ]
  },
  {
   "cell_type": "code",
   "execution_count": 81,
   "metadata": {},
   "outputs": [
    {
     "data": {
      "text/plain": "LinearRegression()"
     },
     "execution_count": 81,
     "metadata": {},
     "output_type": "execute_result"
    }
   ],
   "source": []
  },
  {
   "cell_type": "code",
   "execution_count": 41,
   "metadata": {},
   "outputs": [
    {
     "ename": "ValueError",
     "evalue": "Expected 2D array, got 1D array instead:\narray=[3.74540119 9.50714306 7.31993942 5.98658484 1.5601864  1.5599452\n 0.58083612 8.66176146 6.01115012 7.08072578 0.20584494 9.69909852\n 8.32442641 2.12339111 1.81824967 1.8340451  3.04242243 5.24756432\n 4.31945019 2.9122914  6.11852895 1.39493861 2.92144649 3.66361843\n 4.56069984 7.85175961 1.99673782 5.14234438 5.92414569 0.46450413\n 6.07544852 1.70524124 0.65051593 9.48885537 9.65632033 8.08397348\n 3.04613769 0.97672114 6.84233027 4.40152494 1.22038235 4.9517691\n 0.34388521 9.09320402 2.58779982 6.62522284 3.11711076 5.20068021\n 5.46710279 1.84854456 9.69584628 7.75132823 9.39498942 8.9482735\n 5.97899979 9.21874235 0.88492502 1.95982862 0.45227289 3.25330331\n 3.8867729  2.71349032 8.28737509 3.56753327 2.8093451  5.42696083\n 1.40924225 8.02196981 0.74550644 9.86886937 7.72244769 1.98715682\n 0.05522117 8.15461428 7.06857344 7.29007168 7.71270347 0.74044652\n 3.58465729 1.1586906  8.63103426 6.23298127 3.30898025 0.6355835\n 3.10982322 3.25183322 7.29606178 6.37557471 8.87212743 4.72214925\n 1.19594246 7.13244787 7.60785049 5.61277198 7.7096718  4.93795596\n 5.22732829 4.27541018 0.25419127 1.07891427].\nReshape your data either using array.reshape(-1, 1) if your data has a single feature or array.reshape(1, -1) if it contains a single sample.",
     "output_type": "error",
     "traceback": [
      "\u001b[0;31m---------------------------------------------------------------------------\u001b[0m",
      "\u001b[0;31mValueError\u001b[0m                                Traceback (most recent call last)",
      "\u001b[0;32m/var/folders/f0/m90nvsfd3p534567h2_y7bl00000gr/T/ipykernel_68660/3045311241.py\u001b[0m in \u001b[0;36m<module>\u001b[0;34m\u001b[0m\n\u001b[1;32m      1\u001b[0m \u001b[0mmodel1\u001b[0m \u001b[0;34m=\u001b[0m \u001b[0mlm\u001b[0m\u001b[0;34m.\u001b[0m\u001b[0mLinearRegression\u001b[0m\u001b[0;34m(\u001b[0m\u001b[0;34m)\u001b[0m\u001b[0;34m\u001b[0m\u001b[0;34m\u001b[0m\u001b[0m\n\u001b[0;32m----> 2\u001b[0;31m \u001b[0mmodel1\u001b[0m\u001b[0;34m.\u001b[0m\u001b[0mfit\u001b[0m\u001b[0;34m(\u001b[0m\u001b[0mx\u001b[0m\u001b[0;34m,\u001b[0m\u001b[0my\u001b[0m\u001b[0;34m)\u001b[0m\u001b[0;34m\u001b[0m\u001b[0;34m\u001b[0m\u001b[0m\n\u001b[0m",
      "\u001b[0;32m~/opt/anaconda3/envs/jmaJupyterPy38/lib/python3.8/site-packages/sklearn/linear_model/_base.py\u001b[0m in \u001b[0;36mfit\u001b[0;34m(self, X, y, sample_weight)\u001b[0m\n\u001b[1;32m    659\u001b[0m         \u001b[0maccept_sparse\u001b[0m \u001b[0;34m=\u001b[0m \u001b[0;32mFalse\u001b[0m \u001b[0;32mif\u001b[0m \u001b[0mself\u001b[0m\u001b[0;34m.\u001b[0m\u001b[0mpositive\u001b[0m \u001b[0;32melse\u001b[0m \u001b[0;34m[\u001b[0m\u001b[0;34m\"csr\"\u001b[0m\u001b[0;34m,\u001b[0m \u001b[0;34m\"csc\"\u001b[0m\u001b[0;34m,\u001b[0m \u001b[0;34m\"coo\"\u001b[0m\u001b[0;34m]\u001b[0m\u001b[0;34m\u001b[0m\u001b[0;34m\u001b[0m\u001b[0m\n\u001b[1;32m    660\u001b[0m \u001b[0;34m\u001b[0m\u001b[0m\n\u001b[0;32m--> 661\u001b[0;31m         X, y = self._validate_data(\n\u001b[0m\u001b[1;32m    662\u001b[0m             \u001b[0mX\u001b[0m\u001b[0;34m,\u001b[0m \u001b[0my\u001b[0m\u001b[0;34m,\u001b[0m \u001b[0maccept_sparse\u001b[0m\u001b[0;34m=\u001b[0m\u001b[0maccept_sparse\u001b[0m\u001b[0;34m,\u001b[0m \u001b[0my_numeric\u001b[0m\u001b[0;34m=\u001b[0m\u001b[0;32mTrue\u001b[0m\u001b[0;34m,\u001b[0m \u001b[0mmulti_output\u001b[0m\u001b[0;34m=\u001b[0m\u001b[0;32mTrue\u001b[0m\u001b[0;34m\u001b[0m\u001b[0;34m\u001b[0m\u001b[0m\n\u001b[1;32m    663\u001b[0m         )\n",
      "\u001b[0;32m~/opt/anaconda3/envs/jmaJupyterPy38/lib/python3.8/site-packages/sklearn/base.py\u001b[0m in \u001b[0;36m_validate_data\u001b[0;34m(self, X, y, reset, validate_separately, **check_params)\u001b[0m\n\u001b[1;32m    570\u001b[0m                 \u001b[0my\u001b[0m \u001b[0;34m=\u001b[0m \u001b[0mcheck_array\u001b[0m\u001b[0;34m(\u001b[0m\u001b[0my\u001b[0m\u001b[0;34m,\u001b[0m \u001b[0;34m**\u001b[0m\u001b[0mcheck_y_params\u001b[0m\u001b[0;34m)\u001b[0m\u001b[0;34m\u001b[0m\u001b[0;34m\u001b[0m\u001b[0m\n\u001b[1;32m    571\u001b[0m             \u001b[0;32melse\u001b[0m\u001b[0;34m:\u001b[0m\u001b[0;34m\u001b[0m\u001b[0;34m\u001b[0m\u001b[0m\n\u001b[0;32m--> 572\u001b[0;31m                 \u001b[0mX\u001b[0m\u001b[0;34m,\u001b[0m \u001b[0my\u001b[0m \u001b[0;34m=\u001b[0m \u001b[0mcheck_X_y\u001b[0m\u001b[0;34m(\u001b[0m\u001b[0mX\u001b[0m\u001b[0;34m,\u001b[0m \u001b[0my\u001b[0m\u001b[0;34m,\u001b[0m \u001b[0;34m**\u001b[0m\u001b[0mcheck_params\u001b[0m\u001b[0;34m)\u001b[0m\u001b[0;34m\u001b[0m\u001b[0;34m\u001b[0m\u001b[0m\n\u001b[0m\u001b[1;32m    573\u001b[0m             \u001b[0mout\u001b[0m \u001b[0;34m=\u001b[0m \u001b[0mX\u001b[0m\u001b[0;34m,\u001b[0m \u001b[0my\u001b[0m\u001b[0;34m\u001b[0m\u001b[0;34m\u001b[0m\u001b[0m\n\u001b[1;32m    574\u001b[0m \u001b[0;34m\u001b[0m\u001b[0m\n",
      "\u001b[0;32m~/opt/anaconda3/envs/jmaJupyterPy38/lib/python3.8/site-packages/sklearn/utils/validation.py\u001b[0m in \u001b[0;36mcheck_X_y\u001b[0;34m(X, y, accept_sparse, accept_large_sparse, dtype, order, copy, force_all_finite, ensure_2d, allow_nd, multi_output, ensure_min_samples, ensure_min_features, y_numeric, estimator)\u001b[0m\n\u001b[1;32m    954\u001b[0m         \u001b[0;32mraise\u001b[0m \u001b[0mValueError\u001b[0m\u001b[0;34m(\u001b[0m\u001b[0;34m\"y cannot be None\"\u001b[0m\u001b[0;34m)\u001b[0m\u001b[0;34m\u001b[0m\u001b[0;34m\u001b[0m\u001b[0m\n\u001b[1;32m    955\u001b[0m \u001b[0;34m\u001b[0m\u001b[0m\n\u001b[0;32m--> 956\u001b[0;31m     X = check_array(\n\u001b[0m\u001b[1;32m    957\u001b[0m         \u001b[0mX\u001b[0m\u001b[0;34m,\u001b[0m\u001b[0;34m\u001b[0m\u001b[0;34m\u001b[0m\u001b[0m\n\u001b[1;32m    958\u001b[0m         \u001b[0maccept_sparse\u001b[0m\u001b[0;34m=\u001b[0m\u001b[0maccept_sparse\u001b[0m\u001b[0;34m,\u001b[0m\u001b[0;34m\u001b[0m\u001b[0;34m\u001b[0m\u001b[0m\n",
      "\u001b[0;32m~/opt/anaconda3/envs/jmaJupyterPy38/lib/python3.8/site-packages/sklearn/utils/validation.py\u001b[0m in \u001b[0;36mcheck_array\u001b[0;34m(array, accept_sparse, accept_large_sparse, dtype, order, copy, force_all_finite, ensure_2d, allow_nd, ensure_min_samples, ensure_min_features, estimator)\u001b[0m\n\u001b[1;32m    759\u001b[0m             \u001b[0;31m# If input is 1D raise error\u001b[0m\u001b[0;34m\u001b[0m\u001b[0;34m\u001b[0m\u001b[0;34m\u001b[0m\u001b[0m\n\u001b[1;32m    760\u001b[0m             \u001b[0;32mif\u001b[0m \u001b[0marray\u001b[0m\u001b[0;34m.\u001b[0m\u001b[0mndim\u001b[0m \u001b[0;34m==\u001b[0m \u001b[0;36m1\u001b[0m\u001b[0;34m:\u001b[0m\u001b[0;34m\u001b[0m\u001b[0;34m\u001b[0m\u001b[0m\n\u001b[0;32m--> 761\u001b[0;31m                 raise ValueError(\n\u001b[0m\u001b[1;32m    762\u001b[0m                     \u001b[0;34m\"Expected 2D array, got 1D array instead:\\narray={}.\\n\"\u001b[0m\u001b[0;34m\u001b[0m\u001b[0;34m\u001b[0m\u001b[0m\n\u001b[1;32m    763\u001b[0m                     \u001b[0;34m\"Reshape your data either using array.reshape(-1, 1) if \"\u001b[0m\u001b[0;34m\u001b[0m\u001b[0;34m\u001b[0m\u001b[0m\n",
      "\u001b[0;31mValueError\u001b[0m: Expected 2D array, got 1D array instead:\narray=[3.74540119 9.50714306 7.31993942 5.98658484 1.5601864  1.5599452\n 0.58083612 8.66176146 6.01115012 7.08072578 0.20584494 9.69909852\n 8.32442641 2.12339111 1.81824967 1.8340451  3.04242243 5.24756432\n 4.31945019 2.9122914  6.11852895 1.39493861 2.92144649 3.66361843\n 4.56069984 7.85175961 1.99673782 5.14234438 5.92414569 0.46450413\n 6.07544852 1.70524124 0.65051593 9.48885537 9.65632033 8.08397348\n 3.04613769 0.97672114 6.84233027 4.40152494 1.22038235 4.9517691\n 0.34388521 9.09320402 2.58779982 6.62522284 3.11711076 5.20068021\n 5.46710279 1.84854456 9.69584628 7.75132823 9.39498942 8.9482735\n 5.97899979 9.21874235 0.88492502 1.95982862 0.45227289 3.25330331\n 3.8867729  2.71349032 8.28737509 3.56753327 2.8093451  5.42696083\n 1.40924225 8.02196981 0.74550644 9.86886937 7.72244769 1.98715682\n 0.05522117 8.15461428 7.06857344 7.29007168 7.71270347 0.74044652\n 3.58465729 1.1586906  8.63103426 6.23298127 3.30898025 0.6355835\n 3.10982322 3.25183322 7.29606178 6.37557471 8.87212743 4.72214925\n 1.19594246 7.13244787 7.60785049 5.61277198 7.7096718  4.93795596\n 5.22732829 4.27541018 0.25419127 1.07891427].\nReshape your data either using array.reshape(-1, 1) if your data has a single feature or array.reshape(1, -1) if it contains a single sample."
     ]
    }
   ],
   "source": [
    "model1 = lm.LinearRegression()\n",
    "#This line will give an error for 1d arrays.   \n",
    "#This is an important think because it's a scary error.  But easy to fix.  \n",
    "\n",
    "model1.fit(x,y)"
   ]
  },
  {
   "cell_type": "code",
   "execution_count": 61,
   "metadata": {},
   "outputs": [
    {
     "name": "stdout",
     "output_type": "stream",
     "text": [
      "(100,)\n",
      "(100, 1)\n"
     ]
    }
   ],
   "source": [
    "# This is one of those stupid coding things. 1-d arrays are different from 2-d arrays with single column\n",
    "# Annoying. \n",
    "# the reshape method is used to change the shape of an array or matrix\n",
    "# the first param of -1 means each row becomes its own array, and the second param of 1 \n",
    "# means there is one total column, which is what we want for our single feature in x\n",
    "# THis makes the 1-d array x (100,)  into a \"2d\" array with only a single column(100,1)\n",
    "\n",
    "\n",
    "print(x.shape)\n",
    "x=x.reshape(-1, 1)\n",
    "print(x.shape)"
   ]
  },
  {
   "cell_type": "code",
   "execution_count": 83,
   "metadata": {},
   "outputs": [
    {
     "data": {
      "text/plain": "LinearRegression()"
     },
     "execution_count": 83,
     "metadata": {},
     "output_type": "execute_result"
    }
   ],
   "source": [
    "#Another way to solve this problem is to use pandas dataframes:\n",
    "#You will likely be working with dataframes anyway.  \n",
    "\n",
    "#pd.DataFrame() turns the array into a dataframe\n",
    "xdf = pd.DataFrame(x)\n",
    "ydf = pd.DataFrame(y)\n",
    "model1.fit(xdf,ydf)"
   ]
  },
  {
   "cell_type": "code",
   "execution_count": 48,
   "metadata": {
    "cell_id": "00021-70942a0f-45ca-403e-b68b-a467ebb847b7",
    "deepnote_cell_type": "code",
    "execution_millis": 2,
    "execution_start": 1602193597214,
    "output_cleared": false,
    "source_hash": "dafee7b8",
    "tags": []
   },
   "outputs": [
    {
     "data": {
      "text/plain": "LinearRegression()"
     },
     "execution_count": 48,
     "metadata": {},
     "output_type": "execute_result"
    }
   ],
   "source": [
    "# assign model to a variable \n",
    "model1 = lm.LinearRegression()\n",
    "\n",
    "# fit model based on data\n",
    "# the reshape method is used to change the shape of an array or matrix\n",
    "# the first param of -1 means each row becomes its own array, and the second param of 1 \n",
    "# means there is one total column, which is what we want for our single feature in x\n",
    "#model1.fit(x.reshape(-1, 1), y)\n",
    "model1.fit(x, y)"
   ]
  },
  {
   "cell_type": "markdown",
   "metadata": {
    "cell_id": "00022-5242cfd6-b7b4-48e0-8518-2992dd21dbb5",
    "deepnote_cell_type": "markdown",
    "output_cleared": false,
    "tags": []
   },
   "source": [
    "Ok.  That seems boring.  What did it do?\n",
    "\n",
    "It changed the \"model1\" variable and added a linear regression. \n",
    "\n",
    "Now that we have a linear regression model fitted, let’s check out the coefficients to see if they match up with our manually calculated values. \n",
    "\n"
   ]
  },
  {
   "cell_type": "markdown",
   "metadata": {
    "cell_id": "00016-ae9da516-934f-4745-ae83-2f0bd6d1d689",
    "deepnote_cell_type": "markdown",
    "output_cleared": false
   },
   "source": [
    "This is the slope you calculated manually along with the slope calculate by sklearn:"
   ]
  },
  {
   "cell_type": "code",
   "execution_count": 49,
   "metadata": {
    "cell_id": "00017-42882cc1-df7d-4665-8c10-4171a745414b",
    "deepnote_cell_type": "code",
    "output_cleared": false,
    "tags": [
     "remove_input"
    ]
   },
   "outputs": [
    {
     "name": "stdout",
     "output_type": "stream",
     "text": [
      "Slope:  1.3160907091507876\n",
      "sklearn Slope:  1.316090709150787\n"
     ]
    }
   ],
   "source": [
    "print('Slope: ', slope)\n",
    "print('sklearn Slope: ', model1.coef_[0])"
   ]
  },
  {
   "cell_type": "markdown",
   "metadata": {
    "cell_id": "00025-f65bef1e-8797-49fe-98e7-b1d32f60ddbd",
    "deepnote_cell_type": "markdown",
    "output_cleared": false,
    "tags": []
   },
   "source": [
    "We can check the intercepts as well:"
   ]
  },
  {
   "cell_type": "code",
   "execution_count": 50,
   "metadata": {
    "cell_id": "00026-77d5ae2d-30ef-471f-a5ba-970707cbb694",
    "deepnote_cell_type": "code",
    "output_cleared": false,
    "tags": []
   },
   "outputs": [
    {
     "name": "stdout",
     "output_type": "stream",
     "text": [
      "Intercept:  0.8603846301869913\n",
      "sklearn Intercept:  0.860384630186994\n"
     ]
    }
   ],
   "source": [
    "print('Intercept: ', intercept)\n",
    "print('sklearn Intercept: ', model1.intercept_)"
   ]
  },
  {
   "cell_type": "code",
   "execution_count": 82,
   "metadata": {},
   "outputs": [
    {
     "data": {
      "image/png": "[encoded data removed]",
      "text/plain": "<Figure size 432x288 with 1 Axes>"
     },
     "metadata": {
      "needs_background": "light"
     },
     "output_type": "display_data"
    }
   ],
   "source": [
    "plt.scatter(x, y)\n",
    "\n",
    "#Now use the model we fit to draw the line\n",
    "#Note that this works by taking are input x and using the model1 we fit with linear regression to predict a y\n",
    "yFit = model1.predict(x)\n",
    "plt.plot(x, yFit, color='tab:orange')\n",
    "plt.xlabel('x')\n",
    "plt.ylabel('y');"
   ]
  },
  {
   "cell_type": "markdown",
   "metadata": {
    "cell_id": "00018-a88c589d-5e2f-423a-8e67-9bda52c091bf",
    "deepnote_cell_type": "markdown",
    "output_cleared": false
   },
   "source": [
    "To generate the data above, we started with some range of $x$ values, and generated $y$ as a linear function of $x$ with some random noise added in. Take a look:"
   ]
  },
  {
   "cell_type": "code",
   "execution_count": 51,
   "metadata": {
    "cell_id": "00019-090c80d9-0323-4e26-8d73-6a9b8cede8d9",
    "deepnote_cell_type": "code",
    "output_cleared": false
   },
   "outputs": [],
   "source": [
    "np.random.seed(42)\n",
    "x = np.random.uniform(0, 10, 100)\n",
    "noise = np.random.randn(100) * 4\n",
    "y = 1.5 * x + noise"
   ]
  },
  {
   "cell_type": "markdown",
   "metadata": {
    "cell_id": "00020-9a5a480a-8768-4212-808a-8a0b9bb5a9c6",
    "deepnote_cell_type": "markdown",
    "output_cleared": false
   },
   "source": [
    "Notice how I defined $y$:\n",
    "\n",
    "$$\n",
    "y = 1.5 \\cdot x + u\n",
    "$$\n",
    "\n",
    "where $u$ is some normally-distributed random noise whose average is 0. So, while there is some randomness to the data, on average the \"true\" slope of the relationship is 1.5. Yet we predicted it to be roughly 1.3!\n",
    "\n",
    "This highlights the following fact: Suppose we have some random data that we believe has a linear relationship. The least-squares slope we generate from the data is an *estimate* of the \"true\" slope of that data. Because of this, the estimated slope is a random variable that depends on the data we happen to have.\n",
    "\n",
    "To highlight this fact, let's repeat the procedure above but with a different [random seed](https://en.wikipedia.org/wiki/Random_seed), in order to get data with the same underlying relationship but different values."
   ]
  },
  {
   "cell_type": "code",
   "execution_count": 52,
   "metadata": {
    "cell_id": "00021-5c6d2a3c-643f-48ed-8daf-245719a3ef8c",
    "deepnote_cell_type": "code",
    "output_cleared": false
   },
   "outputs": [],
   "source": [
    "np.random.seed(189)\n",
    "x = np.random.uniform(0, 10, 100)\n",
    "noise = np.random.randn(100) * 4\n",
    "y = 1.5 * x + noise\n",
    "\n",
    "r = correlation(x_standard, y_standard)\n",
    "slope = r * np.std(y) / np.std(x)\n",
    "intercept = np.mean(y) - slope * np.mean(x)"
   ]
  },
  {
   "cell_type": "code",
   "execution_count": 53,
   "metadata": {
    "cell_id": "00031-f541a82c-851b-460f-8b97-7da94539099d",
    "deepnote_cell_type": "code",
    "output_cleared": false,
    "tags": []
   },
   "outputs": [
    {
     "data": {
      "text/plain": "LinearRegression()"
     },
     "execution_count": 53,
     "metadata": {},
     "output_type": "execute_result"
    }
   ],
   "source": [
    "# once again, we can do this process with sklearn\n",
    "\n",
    "model2 = lm.LinearRegression()\n",
    "model2.fit(x.reshape(-1, 1), y)"
   ]
  },
  {
   "cell_type": "code",
   "execution_count": 54,
   "metadata": {
    "cell_id": "00022-9bc6ea0e-b193-4a60-bc4d-5b51f7697397",
    "deepnote_cell_type": "code",
    "output_cleared": false,
    "tags": [
     "remove_input"
    ]
   },
   "outputs": [
    {
     "name": "stdout",
     "output_type": "stream",
     "text": [
      "Slope:  1.5590151265266388\n",
      "sklearn Slope:  1.6040518410350635\n"
     ]
    },
    {
     "data": {
      "image/png": "[encoded data removed]",
      "text/plain": "<Figure size 576x432 with 1 Axes>"
     },
     "metadata": {
      "needs_background": "light"
     },
     "output_type": "display_data"
    }
   ],
   "source": [
    "plt.figure(figsize=(8,6))\n",
    "plt.scatter(x, y)\n",
    "plt.plot(np.linspace(0, 10), slope * np.linspace(0, 10) + intercept, color='tab:orange')\n",
    "plt.xlabel('$x$')\n",
    "plt.ylabel('$y$');\n",
    "print('Slope: ', slope)\n",
    "print('sklearn Slope: ', model2.coef_[0])"
   ]
  },
  {
   "cell_type": "markdown",
   "metadata": {
    "cell_id": "00023-e7953e40-451c-405c-8c1b-7ba1fdc7489d",
    "deepnote_cell_type": "markdown",
    "output_cleared": false
   },
   "source": [
    "Now the estimated slope is roughly 1.6, even though the underlying data was still generated using a slope of 1.5. This is a very important concept that we will revisit soon.\n",
    "\n",
    "Keep in mind, however, that correlation in data *does not* imply causation. In this example we know the true causal relationship between $x$ and $y$ because we defined it ourselves. However, when using real data you do not see the \"true\" relation and thus cannot conclude causality from correlation. It could simply be that both your variables depend on an unseen third variable and have no causal effect on one another. Or even worse, while unlikely it could be the case that slight linear trends in two variables is a complete coincidence."
   ]
  },
  {
   "cell_type": "markdown",
   "metadata": {
    "cell_id": "00024-87b7b8a8-3395-4d86-9632-d77898a62b05",
    "deepnote_cell_type": "markdown",
    "output_cleared": false
   },
   "source": [
    "## Root-Mean-Squared Error"
   ]
  },
  {
   "cell_type": "markdown",
   "metadata": {
    "cell_id": "00025-73e18919-376c-478f-b6b3-1ba030bd1a7d",
    "deepnote_cell_type": "markdown",
    "output_cleared": false
   },
   "source": [
    "While we can arbitrarily pick $\\hat{\\alpha}$ and $\\hat{\\beta}$ values, we do want to pick the values that help predict $\\hat{y}$ that are closest to actual $y$ values. To achieve this, we want to minimize a **loss function** that quantifies how far off our prediction $\\hat{y}$ is from $y$ for some known data points. One of the most common loss functions is called the **root-mean-squared error**, and is defined as\n",
    "\n",
    "$$\n",
    "\\text{RMSE} = \\sqrt{ \\frac{1}{n} \\sum_{i=1}^n \\left ( y_i - \\hat{y}_i \\right ) ^2 }\n",
    "$$\n",
    "\n",
    "where $n$ is the number of observations. The effect of this is to take the mean of the distance of each value of $\\hat{y}$ from its corresponding value in $y$; squaring these values keeps them positive, and then we take the square root to correct the units of the error.\n",
    "\n",
    "Plugging in the formula $\\hat{y}$ in RMSE formula, we get,\n",
    "\n",
    "$$\n",
    "\\text{RMSE} = \\sqrt{ \\frac{1}{n} \\sum_{i=1}^n \\left ( y_i - (\\hat{\\alpha} + \\hat{\\beta}x_i) \\right ) ^2 }\n",
    "$$\n",
    "\n",
    "We want to pick $\\hat{\\alpha}$ and $\\hat{\\beta}$ that minimize this formula. Recall from calculus that to find the minimum of a function, we take its first derivative, set that expression equal to 0, and solve for some variable. The process is the same here, although there are two variables we are solving for. By doing a bit of calculus, we get the following formulas for $\\hat{\\alpha}$ and $\\hat{\\beta}$\n",
    "\n",
    "$$\\Large\n",
    "\\hat{\\beta} = r\\frac {\\hat{\\sigma}_y} {\\hat{\\sigma}_x} \\qquad \\qquad\n",
    "\\hat{\\alpha} = \\hat{\\mu}_y - \\hat{\\beta}\\hat{\\mu}_x\n",
    "$$\n",
    "\n",
    "where $r$ is the **correlation** between $x$ and $y$, $\\hat{\\sigma}_y$ is the standard deviation of $y$, $\\hat{\\sigma}_x$ is the standard deviation of $x$, $\\hat{\\mu}_y$ is the average of all our $y$ values, and $\\hat{\\mu}_x$ is the average of all our $x$ values. (As an aside, note the hats on our $\\sigma$'s and $\\mu$'s; this is because these are _empirical estimates_ of the parameters of these distributions, rather than the true values.) These are the same values we had above!\n",
    "\n",
    "Note that our formula for $\\hat{\\beta}$ involves the **correlation coefficient** $r$ of $x$ and $y$. The correlation coefficient of two variables is a measure of the strength of a linear relationship between them. $r$ goes from -1 to 1, where $|r|=1$ is a perfect linear relationship and $r=0$ is no linear relationship. The formula for $r$ is\n",
    "\n",
    "$$\n",
    "r = \\frac{1}{n}\\sum^n_{i=1} \\left ( \\frac{x_i - \\hat{\\mu}_x}{\\hat{\\sigma}_x} \\right ) \\left ( \\frac{y_i - \\hat{\\mu}_y}{\\hat{\\sigma}_y} \\right )\n",
    "$$\n",
    "\n",
    "(Note: the form $\\frac{x_i - \\hat{\\mu}_x}{\\hat{\\sigma}_x}$ of a variable $x$ is it's representation in standard units, as mentioned above.)\n",
    "\n",
    "To calculate the RMSE, we will write an `rmse` function that makes use of sklearn's `mean_squared_error` function."
   ]
  },
  {
   "cell_type": "code",
   "execution_count": 67,
   "metadata": {
    "cell_id": "00026-483afdeb-335e-40cc-b5c1-d73d143295f8",
    "deepnote_cell_type": "code",
    "output_cleared": false
   },
   "outputs": [],
   "source": [
    "def rmse(target, pred):\n",
    "    return np.sqrt(mean_squared_error(target, pred))"
   ]
  },
  {
   "cell_type": "markdown",
   "metadata": {
    "cell_id": "00027-3e5c1fa8-dc12-440e-b3b0-38efe31e86a4",
    "deepnote_cell_type": "markdown",
    "output_cleared": false
   },
   "source": [
    "To get a better idea of what the RMSE represents, the figures below show a small dataset, a proposed regression line, and the squared error that we are summing in the RMSE. The data points are\n",
    "\n",
    "| $x$ | $y$ |\n",
    "|-----|-----|\n",
    "| 0 | 1 |\n",
    "| 1 | .5 |\n",
    "| 2 | -1 |\n",
    "| 3 | 2 |\n",
    "| 4 | -3 |\n"
   ]
  },
  {
   "cell_type": "code",
   "execution_count": 77,
   "metadata": {
    "cell_id": "00028-863aa9ee-6dff-4e47-a9cb-a6b6f6b74925",
    "deepnote_cell_type": "code",
    "output_cleared": false,
    "tags": [
     "remove_cell"
    ]
   },
   "outputs": [
    {
     "data": {
      "application/vnd.jupyter.widget-view+json": {
       "model_id": "da35f3411c6f45198c35704887385a52",
       "version_major": 2,
       "version_minor": 0
      },
      "text/plain": "interactive(children=(FloatSlider(value=0.0, description='slope', max=4.0, min=-4.0), FloatSlider(value=0.0, d…"
     },
     "metadata": {},
     "output_type": "display_data"
    }
   ],
   "source": [
    "#Create a small dataframe to hold the data\n",
    "d = pd.DataFrame({\n",
    "    'x': [0,  1,  2,  3,  4],\n",
    "    'y': [1, .5, -1,  2, -3]})\n",
    "\n",
    "def plot_line_and_errors(slope, intercept):\n",
    "    print(\"RMSE:\", rmse(slope * d['x'] + intercept, d['y']))\n",
    "    plt.figure(figsize=(5,5))\n",
    "    # points = make_array(-2, 7)\n",
    "    points = np.array([-2,7])\n",
    "    p = plt.plot(points, slope*points + intercept, color='orange', label='Proposed line')\n",
    "    ax = p[0].axes\n",
    "    \n",
    "    predicted_ys = slope * d['x'] + intercept\n",
    "    diffs = predicted_ys - d['y']\n",
    "    for i in np.arange(d.shape[0]):\n",
    "        x = d['x'][i]\n",
    "        y = d['y'][i]\n",
    "        diff = diffs[i]\n",
    "        \n",
    "        if diff > 0:\n",
    "            bottom_left_x = x\n",
    "            bottom_left_y = y\n",
    "        else:\n",
    "            bottom_left_x = x + diff\n",
    "            bottom_left_y = y + diff\n",
    "        \n",
    "        # ax.add_patch(patches.Rectangle(make_array(bottom_left_x, bottom_left_y), abs(diff), abs(diff), color='red', alpha=.3, label=('Squared error' if i == 0 else None)))\n",
    "        # plt.plot(make_array(x, x), make_array(y, y + diff), color='red', alpha=.6, label=('Error' if i == 0 else None))\n",
    "        ax.add_patch(patches.Rectangle(np.array([bottom_left_x, bottom_left_y]), abs(diff), abs(diff), color='red', alpha=.3, label=('Squared error' if i == 0 else None)))\n",
    "        plt.plot(np.array([x, x]), np.array([y, y + diff]), color='red', alpha=.6, label=('Error' if i == 0 else None))\n",
    "    \n",
    "    plt.scatter(d['x'], d['y'], color='blue', label='Points')\n",
    "    \n",
    "    plt.xlim(-4, 8)\n",
    "    plt.ylim(-6, 6)\n",
    "    plt.gca().set_aspect('equal', adjustable='box')\n",
    "    \n",
    "    plt.legend(bbox_to_anchor=(1.8, .8))\n",
    "    plt.show()\n",
    "\n",
    "interact(plot_line_and_errors, slope=widgets.FloatSlider(min=-4, max=4, step=.1), intercept=widgets.FloatSlider(min=-4, max=4, step=.1));"
   ]
  },
  {
   "cell_type": "markdown",
   "metadata": {
    "cell_id": "00029-ceb51e96-5fd4-4e9d-9b99-3ebaf28294e1",
    "deepnote_cell_type": "markdown",
    "output_cleared": false
   },
   "source": [
    "## Considering Noise in real-world data"
   ]
  },
  {
   "cell_type": "markdown",
   "metadata": {
    "cell_id": "00030-41193124-6de6-4da1-80d4-103e5eb11e2c",
    "deepnote_cell_type": "markdown",
    "output_cleared": false
   },
   "source": [
    "The regression line can have two purposes:\n",
    "\n",
    "* Of particular interest to data scientists is the line's ability to predict values of $y$ for new values of $x$ that we didn't see before.\n",
    "\n",
    "* Specifically, to see the line's ability to estimate the \"true\" underlying slope of the data via its slope.\n",
    "\n",
    "This is why regression is such a powerful tool and forms the backbone of many fields outside of pure data science. If we believe that our data satisfy certain \n",
    "assumptions, then we can use the slope of the regression line to estimate the \"true\" relation between the variables in question and learn more about the world we live in.\n",
    "\n",
    "To account for a more \"true\" relationship similar to real life, we usually add another variable $\\varepsilon$ to the linear relationship as follows:\n",
    "\n",
    "$$\n",
    "y = \\alpha + \\beta \\cdot x + \\varepsilon\n",
    "$$\n",
    "\n",
    "where $y$ and $x$ are values for any arbitrary point, $\\alpha$ is the intercept, $\\beta$ is the slope, and $\\varepsilon$ is some noise caused by the randomness we see in real-world scenarios. This is entirely analogous to the code from earlier that determined the true linear relationship between the data:\n",
    "\n",
    "```python\n",
    "y = 1.5 * x + noise\n",
    "```\n",
    "\n",
    "Here, $\\beta = 1.5$, $\\alpha = 0$, and $\\varepsilon = \\text{noise}$.\n",
    "\n",
    "When we fit a regression line onto the data, we express the line as:\n",
    "\n",
    "$$\n",
    "\\hat{y} = \\hat{\\alpha} + \\hat{\\beta} \\cdot x\n",
    "$$\n",
    "\n",
    "Here, we put hats over the slope and intercept terms because they are *estimates* of the true slope and intercept terms. Similarly, we put a hat over $y$ because this is the $y$ value that the regression line predicts.\n",
    "\n",
    "Notice how the noise term $\\varepsilon$ does not appear in the expression for the regression line. This is because the noise term is a random variable that has no relation with $x$, and is thus impossible to predict from the data. Furthermore, the noise term has a mean value of 0, so on average we actually don't expect the noise term to have any impact on the underlying trends of the data.\n",
    "\n",
    "With real data these are assumptions that we have to make, and what assumpations to make is something that data scientists spend a lot of time thinking about."
   ]
  },
  {
   "cell_type": "markdown",
   "metadata": {},
   "source": [
    "# Excercise\n",
    "\n",
    "I put the code below to load the penguins dataset. \n",
    "\n",
    "\n",
    "Make a plot of flipper length vs body mass and put a best fit line on it using sci-kit learn.\n",
    "\n",
    "Advanced\n",
    "\n",
    "Fit a best fit line for flipper length vs body mass for each species separately and qualitatively compare the fits.  \n",
    "\n",
    "Fit a best fit line for culmen depth vs body mass for each species separately and qualitatively compare the fits.  What aspects of the data do the model parameters (slope and intercept) capture?\n",
    "\n"
   ]
  },
  {
   "cell_type": "code",
   "execution_count": 84,
   "metadata": {},
   "outputs": [],
   "source": [
    "penguins = pd.read_csv('../week_5/penguins_size.csv')"
   ]
  },
  {
   "cell_type": "code",
   "execution_count": 85,
   "metadata": {},
   "outputs": [
    {
     "data": {
      "text/html": "<div>\n<style scoped>\n    .dataframe tbody tr th:only-of-type {\n        vertical-align: middle;\n    }\n\n    .dataframe tbody tr th {\n        vertical-align: top;\n    }\n\n    .dataframe thead th {\n        text-align: right;\n    }\n</style>\n<table border=\"1\" class=\"dataframe\">\n  <thead>\n    <tr style=\"text-align: right;\">\n      <th></th>\n      <th>species</th>\n      <th>island</th>\n      <th>culmen_length_mm</th>\n      <th>culmen_depth_mm</th>\n      <th>flipper_length_mm</th>\n      <th>body_mass_g</th>\n      <th>sex</th>\n    </tr>\n  </thead>\n  <tbody>\n    <tr>\n      <th>0</th>\n      <td>Adelie</td>\n      <td>Torgersen</td>\n      <td>39.1</td>\n      <td>18.7</td>\n      <td>181.0</td>\n      <td>3750.0</td>\n      <td>MALE</td>\n    </tr>\n    <tr>\n      <th>1</th>\n      <td>Adelie</td>\n      <td>Torgersen</td>\n      <td>39.5</td>\n      <td>17.4</td>\n      <td>186.0</td>\n      <td>3800.0</td>\n      <td>FEMALE</td>\n    </tr>\n    <tr>\n      <th>2</th>\n      <td>Adelie</td>\n      <td>Torgersen</td>\n      <td>40.3</td>\n      <td>18.0</td>\n      <td>195.0</td>\n      <td>3250.0</td>\n      <td>FEMALE</td>\n    </tr>\n    <tr>\n      <th>3</th>\n      <td>Adelie</td>\n      <td>Torgersen</td>\n      <td>NaN</td>\n      <td>NaN</td>\n      <td>NaN</td>\n      <td>NaN</td>\n      <td>NaN</td>\n    </tr>\n    <tr>\n      <th>4</th>\n      <td>Adelie</td>\n      <td>Torgersen</td>\n      <td>36.7</td>\n      <td>19.3</td>\n      <td>193.0</td>\n      <td>3450.0</td>\n      <td>FEMALE</td>\n    </tr>\n    <tr>\n      <th>...</th>\n      <td>...</td>\n      <td>...</td>\n      <td>...</td>\n      <td>...</td>\n      <td>...</td>\n      <td>...</td>\n      <td>...</td>\n    </tr>\n    <tr>\n      <th>339</th>\n      <td>Gentoo</td>\n      <td>Biscoe</td>\n      <td>NaN</td>\n      <td>NaN</td>\n      <td>NaN</td>\n      <td>NaN</td>\n      <td>NaN</td>\n    </tr>\n    <tr>\n      <th>340</th>\n      <td>Gentoo</td>\n      <td>Biscoe</td>\n      <td>46.8</td>\n      <td>14.3</td>\n      <td>215.0</td>\n      <td>4850.0</td>\n      <td>FEMALE</td>\n    </tr>\n    <tr>\n      <th>341</th>\n      <td>Gentoo</td>\n      <td>Biscoe</td>\n      <td>50.4</td>\n      <td>15.7</td>\n      <td>222.0</td>\n      <td>5750.0</td>\n      <td>MALE</td>\n    </tr>\n    <tr>\n      <th>342</th>\n      <td>Gentoo</td>\n      <td>Biscoe</td>\n      <td>45.2</td>\n      <td>14.8</td>\n      <td>212.0</td>\n      <td>5200.0</td>\n      <td>FEMALE</td>\n    </tr>\n    <tr>\n      <th>343</th>\n      <td>Gentoo</td>\n      <td>Biscoe</td>\n      <td>49.9</td>\n      <td>16.1</td>\n      <td>213.0</td>\n      <td>5400.0</td>\n      <td>MALE</td>\n    </tr>\n  </tbody>\n</table>\n<p>344 rows × 7 columns</p>\n</div>",
      "text/plain": "    species     island  culmen_length_mm  culmen_depth_mm  flipper_length_mm  \\\n0    Adelie  Torgersen              39.1             18.7              181.0   \n1    Adelie  Torgersen              39.5             17.4              186.0   \n2    Adelie  Torgersen              40.3             18.0              195.0   \n3    Adelie  Torgersen               NaN              NaN                NaN   \n4    Adelie  Torgersen              36.7             19.3              193.0   \n..      ...        ...               ...              ...                ...   \n339  Gentoo     Biscoe               NaN              NaN                NaN   \n340  Gentoo     Biscoe              46.8             14.3              215.0   \n341  Gentoo     Biscoe              50.4             15.7              222.0   \n342  Gentoo     Biscoe              45.2             14.8              212.0   \n343  Gentoo     Biscoe              49.9             16.1              213.0   \n\n     body_mass_g     sex  \n0         3750.0    MALE  \n1         3800.0  FEMALE  \n2         3250.0  FEMALE  \n3            NaN     NaN  \n4         3450.0  FEMALE  \n..           ...     ...  \n339          NaN     NaN  \n340       4850.0  FEMALE  \n341       5750.0    MALE  \n342       5200.0  FEMALE  \n343       5400.0    MALE  \n\n[344 rows x 7 columns]"
     },
     "execution_count": 85,
     "metadata": {},
     "output_type": "execute_result"
    }
   ],
   "source": []
  },
  {
   "cell_type": "code",
   "execution_count": null,
   "metadata": {},
   "outputs": [],
   "source": []
  }
 ],
 "metadata": {
  "celltoolbar": "Tags",
  "deepnote_execution_queue": [],
  "deepnote_notebook_id": "e33b0ed3-335c-4799-886e-76cd443c4535",
  "kernelspec": {
   "display_name": "Python 3.8.10 64-bit ('jmaJupyterPy38': conda)",
   "name": "python3810jvsc74a57bd017445a4fc8918f5d567c21d42053b58d1bb2666d398f50777a1b4ea52e90fb83"
  },
  "language_info": {
   "name": "python",
   "version": ""
  },
  "varInspector": {
   "cols": {
    "lenName": 16,
    "lenType": 16,
    "lenVar": 40
   },
   "kernels_config": {
    "python": {
     "delete_cmd_postfix": "",
     "delete_cmd_prefix": "del ",
     "library": "var_list.py",
     "varRefreshCmd": "print(var_dic_list())"
    },
    "r": {
     "delete_cmd_postfix": ") ",
     "delete_cmd_prefix": "rm(",
     "library": "var_list.r",
     "varRefreshCmd": "cat(var_dic_list()) "
    }
   },
   "types_to_exclude": [
    "module",
    "function",
    "builtin_function_or_method",
    "instance",
    "_Feature"
   ],
   "window_display": false
  }
 },
 "nbformat": 4,
 "nbformat_minor": 2
}