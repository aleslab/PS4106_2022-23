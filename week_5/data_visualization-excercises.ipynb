{
 "cells": [
  {
   "cell_type": "markdown",
   "metadata": {},
   "source": [
    "# Excercises\n",
    "For Data visualization excercises, let's take a look at a rather cute topic: penguins.\n",
    "\n",
    "This dataset can be found [here](https://www.kaggle.com/parulpandey/palmer-archipelago-antarctica-penguin-data)\n",
    "\n",
    "It contains a the following information about penguins living in Antarcitca gathered by researchers at the Palmer research Station.\n",
    "\n",
    "\n",
    "|Variable| Definition|\n",
    "|-----------|------------------------|\n",
    "| species:  | penguin species (Chinstrap, Adélie, or Gentoo) |\n",
    "|culmen_length_mm | culmen length (mm)|\n",
    "|culmen_depth_mm |culmen depth (mm)|\n",
    "|flipper_length_mm| flipper length (mm) |\n",
    "|body_mass_g| body mass (g)\n",
    "|island| island name (Dream, Torgersen, or Biscoe) in the Palmer Archipelago (Antarctica)|\n",
    "|sex| penguin sex|\n",
    "\n",
    "\n",
    "The culmen is \"the upper ridge of a bird's beak\" (definition from Oxford Languages).\n",
    "\n",
    "![image](penguins.jpg)"
   ]
  },
  {
   "cell_type": "code",
   "execution_count": null,
   "metadata": {
    "cell_id": "00001-beac069b-2856-476a-b835-c830b039b83c",
    "deepnote_cell_type": "code",
    "tags": []
   },
   "outputs": [],
   "source": [
    "#Setup the preliminaries\n",
    "import matplotlib.pyplot as plt\n",
    "import pandas as pd\n",
    "import numpy as np\n",
    "\n",
    "%matplotlib inline"
   ]
  },
  {
   "cell_type": "code",
   "execution_count": null,
   "metadata": {
    "cell_id": "d7debe1d-444a-4b1b-ae10-041cb5e7c529",
    "deepnote_cell_type": "code",
    "tags": []
   },
   "outputs": [],
   "source": [
    "\n",
    "penguins = pd.read_csv(\"penguins_size.csv\")\n",
    "\n",
    "#Note: This is real data.  In real data there is often issues and things arent' quite neat\n",
    "#and tidy.  In this case it wasn't always possible to make every measure from every penguin\n",
    "#The missing values are coded NaN.   For our purposes today we remove any penguins that\n",
    "# don't have full set of measurements\n",
    "# To do this we can use the dropna() functions to remove these rows from the dataframe \n",
    "\n",
    "penguins = penguins.dropna()\n",
    "\n",
    "penguins"
   ]
  },
  {
   "cell_type": "code",
   "execution_count": null,
   "metadata": {},
   "outputs": [],
   "source": [
    "penguins[\"code\"]=pd.factorize(penguins['species'])[0]\n",
    "\n",
    "\n",
    "plt.scatter(penguins['culmen_length_mm'],penguins['culmen_depth_mm'],c=penguins['code'])"
   ]
  },
  {
   "cell_type": "markdown",
   "metadata": {
    "cell_id": "165630c0-6397-482b-8636-363010979d9c",
    "deepnote_cell_type": "markdown",
    "tags": []
   },
   "source": [
    "From the plot above, we can see that the species Gentoo is  heavier in weight than all other penguin species in this dataset. "
   ]
  },
  {
   "cell_type": "markdown",
   "metadata": {
    "cell_id": "141d0687-25bf-4447-a862-b6d2a725c2d0",
    "deepnote_cell_type": "markdown",
    "tags": []
   },
   "source": [
    "## Histograms\n",
    "\n",
    "Make a histogram of the body mass for each species of penguin. First make seperate plots, then try the overlapping transparent version. \n",
    "\n",
    "Next pick a species of penguin and plot histograms for the body mass for the 2 sexes.  Try seperate plots and then transperent overlapping.  Notice which one makes it easier to compare between the 2 sexes. "
   ]
  },
  {
   "cell_type": "markdown",
   "metadata": {
    "cell_id": "7c6250ba-20d9-4e92-84d4-d68577ecea7a",
    "deepnote_cell_type": "markdown",
    "tags": []
   },
   "source": [
    "## Scatter plots\n",
    "\n",
    "scatter plots are most useful when we are trying to determine the relationship between two numeric variables. \n",
    "For example, would a heavier body mass indicate generically larger pengiuins? \n",
    "\n",
    "To answer the question try drawing a few scatter plots of: culmen length vs body mass, culmen depth vs body mass, flippper length vs body mass.   \n",
    "\n",
    "Try to make at least on of these scatter plots include all species in one plotlabeled by different colors\n",
    "\n",
    "Importantly for plots to be interpretible by others proper labels need to be included.  In order to gain practice be sure to add to at least one of the graphs:\n",
    "\n",
    "What is the x axis?\n",
    "What is the y axis?\n",
    "If multiple colors/symbols what do they represent?\n",
    "\n",
    "Add a title for what the graph is showing.\n",
    "\n",
    "\n"
   ]
  },
  {
   "cell_type": "markdown",
   "metadata": {},
   "source": [
    "# Styles\n",
    "\n",
    "The defaults for matplotlib are not the most aesthetically pleasing.  Try switching some of your plots above to use different styles.  You can use `plt.style.available` to list all the options.   The five below I find nice and can be seen commonly in various settings.   But feel free to try out a few \n",
    "\n",
    "```\n",
    "'fivethirtyeight',\n",
    "'seaborn-pastel',\n",
    "'seaborn-whitegrid',\n",
    "'ggplot',\n",
    "'grayscale'\n",
    "```\n",
    "\n",
    "\n",
    "Use plt.style.use() to set a different style and see how how it changes your plots.  E.g. to set the fivethirtyeight style:\n",
    "```\n",
    "plt.style.use('fivethirtyeight')"
   ]
  },
  {
   "cell_type": "code",
   "execution_count": null,
   "metadata": {},
   "outputs": [],
   "source": [
    "#Show available stles:\n",
    "plt.style.available"
   ]
  }
 ],
 "metadata": {
  "deepnote_execution_queue": [],
  "deepnote_notebook_id": "95bbb995-c0a2-4e61-a9bc-c91e57e49e4e",
  "kernelspec": {
   "display_name": "Python 3.8.10 64-bit ('jmaJupyterPy38': conda)",
   "name": "python3810jvsc74a57bd017445a4fc8918f5d567c21d42053b58d1bb2666d398f50777a1b4ea52e90fb83"
  },
  "language_info": {
   "codemirror_mode": {
    "name": "ipython",
    "version": 3
   },
   "file_extension": ".py",
   "mimetype": "text/x-python",
   "name": "python",
   "nbconvert_exporter": "python",
   "pygments_lexer": "ipython3",
   "version": "3.8.10"
  }
 },
 "nbformat": 4,
 "nbformat_minor": 2
}