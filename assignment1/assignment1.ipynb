{
 "cells": [
  {
   "cell_type": "markdown",
   "metadata": {},
   "source": [
    "# Assignment 1\n",
    "\n",
    "This programming assignment has several sections for each part you should fill out the the jupyter notebook.  Make sure to save your work by downloading the file or using the browser save. \n",
    "\n",
    "\n",
    "You will submit the work to MMS by uploading your .ipynb file. \n",
    "\n"
   ]
  },
  {
   "cell_type": "markdown",
   "metadata": {},
   "source": [
    "# Function syntax\n",
    "\n"
   ]
  },
  {
   "cell_type": "markdown",
   "metadata": {},
   "source": [
    "1) Write a function that finds the 2nd largest number.  E.g. out of 1, 2, 3, 4, 5  it's 4.   In the code block below "
   ]
  },
  {
   "cell_type": "code",
   "execution_count": 1,
   "metadata": {},
   "outputs": [
    {
     "name": "stdout",
     "output_type": "stream",
     "text": [
      "None\n"
     ]
    }
   ],
   "source": [
    "#replace the elpisis (...) with code to find the 2nd largest number from a list.\n",
    "#you can use multiple lines\n",
    "listOfNumbers  = [ 1, 10, 80, 99, 100]\n",
    "\n",
    "def secondLargest(list):\n",
    "    ...\n",
    "\n",
    "\n",
    "print(secondLargest(listOfNumbers))"
   ]
  },
  {
   "cell_type": "markdown",
   "metadata": {},
   "source": [
    "2. Write a funtion that generlizes the above function to finds the nth largest number from a list.  It should  take 2 argmuments, 1) a list of numbers, and 2) a number indicating which value to select (e.g. 3rd or 4th largest)"
   ]
  },
  {
   "cell_type": "code",
   "execution_count": null,
   "metadata": {},
   "outputs": [],
   "source": []
  },
  {
   "cell_type": "markdown",
   "metadata": {},
   "source": [
    "# Titanic \n",
    "\n",
    "The datafile \"titanic.csv\" contains real data from the sinking of the titanic.    For this excercise you will load this data and calcluate some values.   \n",
    "\n",
    "The data is in the file: titantic.csv\n",
    "\n",
    "Analyze the datasets to produce the following outputs.  For each section you need to do:\n",
    "\n",
    "a) code to generate the output\n",
    "b) description of your code.  This should be written inline with the code using a # comment line\n",
    "```\n",
    "#Divide cases by the population to get per capita rate and multipy by 100,000 to get cases per 100k\n",
    "result = 100,000*(cases/population)\n",
    "```\n",
    "c) markdown cell that explains what the output shows and how you interpret this output. \n",
    "\n",
    "\n",
    "\n",
    "1) Prepare basic descriptives of the dataset by finding the answers to the following:  How many passengers are in the dataset?  How many survived? \n",
    "2)  The common saying is \"women and children first\".   Looking at all the passengers can you determine if women and children we more likely to survive than adult men?\n",
    "3)  The next task is to breakdown into more specific categories.  In the dataset is also the ticket class of the passenger. First calculate the survival rate for the different classes.  Then repeat task (2) splitting for women and children, but now do it seperately for the different ticket classes.  What can you say about the results?\n"
   ]
  },
  {
   "cell_type": "code",
   "execution_count": null,
   "metadata": {},
   "outputs": [],
   "source": []
  },
  {
   "cell_type": "code",
   "execution_count": null,
   "metadata": {},
   "outputs": [],
   "source": []
  },
  {
   "cell_type": "code",
   "execution_count": null,
   "metadata": {},
   "outputs": [],
   "source": []
  },
  {
   "cell_type": "markdown",
   "metadata": {},
   "source": [
    "# Covid in Scotland\n",
    "\n",
    "This section is a mini real world data analysis.  There is lots of open data available from various sources. In this excercise I want you to take real public data about COVID cases in Scotland and combine it with demographic information. We will look at COVID rates combined with \n",
    "\n",
    "## Covid Data\n",
    "The COVID data comes from Public Health Scotland: https://www.publichealthscotland.scot/our-areas-of-work/covid-19/covid-19-data-and-intelligence/covid-19-daily-cases-in-scotland-dashboard/overview-of-the-daily-covid-19-data-dashboard/\n",
    "\n",
    "The COVID data is the file: scotland_covid_by_IZ.csv\n",
    "\n",
    "The covid data includes (among others) the following columns that you should find useful:\n",
    "\n",
    "| Column Name| Description|\n",
    "|-----------|-------------|\n",
    "| Date| Data string YYYYMMDD|\n",
    "|IntZone|The ID code for the intermediate zone the data comes from|\n",
    "|IntZoneName| The name for the zone|\n",
    "|CA| Code indentifying the council area|\n",
    "|CAName| Council name|\n",
    "|Positive7Day|  Number of postive days in the preceding 7 days|\n",
    "|Population| Population of intermediate zone, based on the latest population estimate figures.|\n",
    "|Days from 2020-03-01| Number of days from March 1st, 2020, use for plotting|\n",
    "\n",
    "\n",
    " \n",
    " \n",
    "## Demographic Data\n",
    "The demographic data about student populations comes from the Scotland 2011 census table #QS102SC. I preprocessed the raw data to provide an easier analysis for this assignment.   The census data is given in terms of \"Data Zones\" which are small areas of about 500-1000 people.  But because COVID status is potentially sensitive information in order to protect privacy COVID data is released at the \"Intermediate Zone\" (IZ) level.  These are groups of about about 5 data zones.  So you need to aggregagate datazones together to be able to combine.  \n",
    "\n",
    "The student population data is in the file: studentPop_by_IZ.csv\n",
    "\n",
    "The Scottish Index of Multiple Deprivation (SIMD) is the method Scotland uses to quantify Socie-Economic Status of local areas of scotland. More information can be found from the the Scottish Government website [link](https://www.gov.scot/collections/scottish-index-of-multiple-deprivation-2020/).  \n",
    "Commonly SIMD is grouped into 5 \"quintiles\" from 1(most deprived) to 5 (least deprived). There is no direct equivalent for intermediate zones. There are various ways to quantify the SIMD of the intermediate zones (IZ).  I've provided a a version for you that looks at the population within an IZ and classifies it by the SIMD quintile of the majority of the  population. \n",
    "\n",
    "The SIMD data is in the file: scotland_simd_by_IZ.csv\n",
    "\n",
    "\n",
    "\n",
    "\n",
    "\n",
    "\n",
    "\n",
    "\n",
    "# There are 4 parts to prepare for this part of the assignment \n",
    "\n",
    "1) A table of the top 10 Scottish Intermediate Zones for total covid cases per 100,000 population. Which includes the IZ Name, the total cases/100k, the student population percentage, the level of deprivation as indexed by SIMD. \n",
    "\n",
    "2) A scatter plot of total cases/100k on one axis, and student population percantage on the other axis.  Be sure to label the axes.\n",
    "\n",
    "3) Graph cases overtime seperating intermediate zones with students making up 20% or more of the population and zones with less than 20% of the population being students. Note: We haven't covered how to handle dates.  So I created a column \"Days from 2020-03-01\" in the dataset.  Use this for the x axis.\n",
    "\n",
    "4) Graph cases over time with seperate lines for the 5 different SIMD levels.  Nice on the same graph, but it's OK to make 5 graphs.  The Y axis should be cases/100k, and the xaxis should be date. Note: We haven't covered how to handle dates.  So I created a column \"Days from 2020-03-01\" in the dataset.  Use this for the x axis.\n",
    "\n",
    "\n",
    "### For each section you need to do: \n",
    "\n",
    "A) Write code to generate the output\n",
    "\n",
    "B) Include written description of your code.  This should be written inline with the code using a # comment line\n",
    "```\n",
    "#Divide cases by the population to get per capita rate and multipy by 100,000 to get cases per 100k\n",
    "result = 100,000*(cases/population)\n",
    "```\n",
    "\n",
    "C) Finish wiht a markdown cell that explains what the output shows and how you interpret this output. \n",
    "\n",
    "### Note:\n",
    "\n",
    "There are various ways to look at covid outcomes. A common metric used is cases/100k population.  This can be calculated with the following formula.  You just calculate case per person and multiply by 100,000. \n",
    "\n",
    "```\n",
    "result = 100,000*(cases/population)\n",
    "```\n"
   ]
  },
  {
   "cell_type": "code",
   "execution_count": null,
   "metadata": {},
   "outputs": [],
   "source": []
  },
  {
   "cell_type": "code",
   "execution_count": null,
   "metadata": {},
   "outputs": [],
   "source": []
  },
  {
   "cell_type": "code",
   "execution_count": null,
   "metadata": {},
   "outputs": [],
   "source": []
  },
  {
   "cell_type": "code",
   "execution_count": null,
   "metadata": {},
   "outputs": [],
   "source": []
  },
  {
   "cell_type": "code",
   "execution_count": null,
   "metadata": {},
   "outputs": [],
   "source": []
  }
 ],
 "metadata": {
  "kernelspec": {
   "display_name": "Python 3.9.5 64-bit",
   "name": "python395jvsc74a57bd0aee8b7b246df8f9039afb4144a1f6fd8d2ca17a180786b69acc140d282b71a49"
  },
  "language_info": {
   "name": "python",
   "version": ""
  },
  "metadata": {
   "interpreter": {
    "hash": "aee8b7b246df8f9039afb4144a1f6fd8d2ca17a180786b69acc140d282b71a49"
   }
  },
  "orig_nbformat": 2
 },
 "nbformat": 4,
 "nbformat_minor": 2
}