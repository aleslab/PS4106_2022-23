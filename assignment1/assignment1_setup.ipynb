{
 "cells": [
  {
   "cell_type": "markdown",
   "metadata": {},
   "source": [
    "# Assignment 1\n",
    "\n",
    "This programming assignment has several sections for each part you should fill out the the jupyter notebook. I suggest \"saving as\" a new filename so if you accidentally delete some of the instructions while editing you can recover easily.    If that happens you can also \"rename\" the file and when you reload the jupyter hub it will restore any missing files from my repository state. \n",
    "\n",
    "In the code excercises below there are places containing \"...\" you should replace those without removing the rest of what is present. \n",
    "\n",
    "e.g.: \n",
    "\n",
    "The ... jumped over the ...\n",
    "\n",
    "The cow jumped over the moon\n",
    "\n",
    "\n",
    "You will submit the work to MMS by uploading your .ipynb file. \n",
    "\n"
   ]
  },
  {
   "cell_type": "markdown",
   "metadata": {},
   "source": [
    "# Programming Excercises\n",
    "\n",
    "\n"
   ]
  },
  {
   "cell_type": "markdown",
   "metadata": {},
   "source": [
    "## Functions\n",
    "1) Write a function that finds the 2nd largest number.  E.g. out of 1, 2, 3, 4, 5  it's 4.   In the code block below "
   ]
  },
  {
   "cell_type": "code",
   "execution_count": null,
   "metadata": {},
   "outputs": [],
   "source": [
    "#replace the elpisis (...) with code to find the 2nd largest number from a list.\n",
    "#you can use multiple lines\n",
    "listOfNumbers  = [ 1, 10, 80, 99, 100]\n",
    "\n",
    "def secondLargest(list):\n",
    "    ...\n",
    "\n",
    "\n",
    "print(secondLargest(listOfNumbers))"
   ]
  },
  {
   "cell_type": "markdown",
   "metadata": {},
   "source": [
    "2.  Write a function that takes **two (2)** inputs. A string and a number, the function should repeat the contents of the string the number of times.  E.g. :\n",
    "\n",
    "String= \"Hello\", number = 3 would result in \"HelloHelloHello\""
   ]
  },
  {
   "cell_type": "code",
   "execution_count": 20,
   "metadata": {},
   "outputs": [
    {
     "name": "stdout",
     "output_type": "stream",
     "text": [
      "None\n"
     ]
    }
   ],
   "source": [
    "\n",
    "def repeatTheString(...):\n",
    "    ...\n",
    "\n"
   ]
  },
  {
   "cell_type": "markdown",
   "metadata": {},
   "source": [
    "## Loops\n",
    "\n",
    "1. Using a loop display the 10 numbers from 1 to 10 "
   ]
  },
  {
   "cell_type": "code",
   "execution_count": null,
   "metadata": {},
   "outputs": [],
   "source": [
    "\n",
    "for ... in ...:\n",
    "   ..."
   ]
  },
  {
   "cell_type": "markdown",
   "metadata": {},
   "source": [
    "2.  The Fibonacci Sequence is made by adding up the preious two numbers before. The first two numbers are 0 and 1.  The 3rd is 0+1 = 1.  The 4th is 1+1=2.  Using a for loop create a list that contains the first 15 values in the sequence.  Show this list using the print() function\n"
   ]
  },
  {
   "cell_type": "code",
   "execution_count": null,
   "metadata": {},
   "outputs": [],
   "source": [
    "fibonacciList = [0,1]\n",
    "\n",
    "for ... in ...:\n",
    "    ...    \n",
    "    \n",
    "print(...)"
   ]
  },
  {
   "cell_type": "markdown",
   "metadata": {},
   "source": [
    "\n",
    "### Combining lists and functions and logic.  \n",
    "\n",
    "Combnining various skills from what what you created above to create a program counts **down** in steps of 3: 51, 48, 45, ..., and stops right before numbers become negative. \n",
    "\n",
    "If the value is -even- print the string \"even\", if it's odd print the number.  \n",
    "\n",
    "Your code should be able to work with any integer starting value.  Show it's output for starting from 60.\n",
    "\n",
    "\n"
   ]
  },
  {
   "cell_type": "markdown",
   "metadata": {},
   "source": []
  },
  {
   "cell_type": "code",
   "execution_count": null,
   "metadata": {},
   "outputs": [],
   "source": [
    "\n",
    "# check if a number is even.  return true if even, and false if odd\n",
    "def isEven(...):\n",
    "    ...\n",
    "\n",
    "for ... in ...:\n",
    "    \n"
   ]
  },
  {
   "cell_type": "markdown",
   "metadata": {},
   "source": [
    "# Titanic\n",
    "\n",
    "The datafile \"titanic.csv\" contains real data from the sinking of the titanic.    For this excercise you will load this data and calcluate some values.   \n",
    "\n",
    "The data is in the file: titantic.csv\n",
    "\n",
    "Analyze the datasets to answering the numbered sections below.  For each section you need to do:\n",
    "\n",
    "a) code to generate the output\n",
    "\n",
    "\n",
    "b) Comments describing what your code is doing/intended to do.  This should be written inline with the code using a # comment line.  For example:\n",
    "```\n",
    "#Divide cases by the population to get per capita rate and multipy by 100,000 to get cases per 100k\n",
    "result = 100,000*(cases/population)\n",
    "```\n",
    "c) **markdown cell** that explains what the output shows and how you interpret this output. Make sure it's a Markdown cell and written in your own words explaining the output. \n",
    "\n",
    "\n",
    "### Questions to answer\n",
    "\n",
    "1) Prepare basic descriptives of the dataset by finding the answers to the following:  How many passengers are in the dataset?  How many survived? \n",
    "2)  The common saying is \"women and children first\".   Looking at all the passengers can you determine if women and children we more likely to survive than adult men?\n",
    "3)  The next task is to breakdown into more specific categories.  In the dataset is also the ticket class of the passenger. First calculate the survival rate for the different classes.  Then repeat task (2) splitting for women and children, but now do it seperately for the different ticket classes.  What can you say about the results?\n"
   ]
  },
  {
   "cell_type": "code",
   "execution_count": null,
   "metadata": {},
   "outputs": [],
   "source": []
  },
  {
   "cell_type": "code",
   "execution_count": null,
   "metadata": {},
   "outputs": [],
   "source": []
  },
  {
   "cell_type": "code",
   "execution_count": null,
   "metadata": {},
   "outputs": [],
   "source": []
  },
  {
   "cell_type": "markdown",
   "metadata": {},
   "source": [
    "# Covid in Scotland\n",
    "\n",
    "This section is a mini real world data analysis.  There is lots of open data available from various sources. In this excercise I want you to take real public data about COVID cases in Scotland and combine it with demographic information. We will look at COVID rates combined with \n",
    "\n",
    "\n",
    "The COVID data comes from Public Health Scotland: https://www.publichealthscotland.scot/our-areas-of-work/covid-19/covid-19-data-and-intelligence/covid-19-daily-cases-in-scotland-dashboard/overview-of-the-daily-covid-19-data-dashboard/\n",
    "\n",
    "The COVID data is the file: scotland_covid_by_IZ.csv\n",
    "\n",
    "The demographic data about student populations comes from the Scotland 2011 census table #QS102SC. I preprocessed the raw data to provide an easier analysis for this assignment.   The census data is given in terms of \"Data Zones\" which are small areas of about 500-1000 people.  But because COVID status is potentially sensitive information in order to protect privacy COVID data is released at the \"Intermediate Zone\" (IZ) level.  These are groups of about about 5 data zones.  So you need to aggregagate datazones together to be able to combine.  \n",
    "\n",
    "The student population data is in the file: studentPop_by_IZ.csv\n",
    "\n",
    "The Scottish Index of Multiple Deprivation (SIMD) is the method Scotland uses to quantify Socie-Economic Status of local areas of scotland. More information can be found from the the Scottish Government website [link](https://www.gov.scot/collections/scottish-index-of-multiple-deprivation-2020/).  \n",
    "Commonly SIMD is grouped into 5 \"quintiles\" from 1(most deprived) to 5 (least deprived). There is no direct equivalent for intermediate zones. There are various ways to quantify the SIMD of the intermediate zones (IZ).  I've provided a a version for you that looks at the population within an IZ and classifies it by the SIMD quintile of the majority of the  population. \n",
    "\n",
    "The SIMD data is in the file: scotland_simd_by_IZ.csv\n",
    "\n",
    "There are various ways to look at covid outcomes. A common metric used is cases/100k population.  This can be calculated with the following formula.  You just calculate case per person and multiply by 100,000. \n",
    "\n",
    "```\n",
    "result = 100,000*(cases/population)\n",
    "```\n",
    "\n",
    "Analyze the datasets to produce the following outputs.  For each section you need to do:\n",
    "\n",
    "a) code to generate the output\n",
    "b) description of your code.  This should be written inline with the code using a # comment line\n",
    "```\n",
    "#Divide cases by the population to get per capita rate and multipy by 100,000 to get cases per 100k\n",
    "result = 100,000*(cases/population)\n",
    "```\n",
    "c) markdown cell that explains what the output shows and how you interpret this output. \n",
    "\n",
    "\n",
    "\n",
    "1) A table of the top 10 Scottish Intermediate Zones for total covid cases per 100,000 population. Which includes the IZ Name, the total cases/100k, the student population percentage, the level of deprivation as indexed by SIMD. \n",
    "\n",
    "2) A scatter plot of total cases/100k on one axis, and student population percantage on the other axis.  Be sure to label the axes.\n",
    "\n",
    "4) Graph cases overtime seperating intermediate zones with students making up 20% or more of the population and zones with less than 20% of the population being students. \n",
    "\n",
    "5) Graph cases over time with seperate lines for the 5 different SIMD levels.  Nice on the same graph, but it's OK to make 5 graphs.  The Y axis should be cases/100k, and the xaxis should be date. \n",
    "\n",
    "\n",
    "\n",
    "\n"
   ]
  },
  {
   "cell_type": "code",
   "execution_count": null,
   "metadata": {},
   "outputs": [],
   "source": [
    "import matplotlib.pyplot as plt\n",
    "import seaborn as sns\n",
    "import pandas as pd\n",
    "import numpy as np\n",
    "import datetime\n",
    "\n",
    "\n",
    "covid = pd.read_csv('scotland_covid_by_IZ.csv')\n",
    "\n",
    "# Further helper code for reading data to be released shortly. "
   ]
  },
  {
   "cell_type": "code",
   "execution_count": null,
   "metadata": {},
   "outputs": [],
   "source": []
  },
  {
   "cell_type": "code",
   "execution_count": null,
   "metadata": {},
   "outputs": [],
   "source": [
    "\n"
   ]
  },
  {
   "cell_type": "code",
   "execution_count": null,
   "metadata": {},
   "outputs": [],
   "source": []
  }
 ],
 "metadata": {
  "kernelspec": {
   "display_name": "Python 3.8.12 64-bit ('jmaJupyterPy38': conda)",
   "name": "jmajupyterpy38"
  },
  "language_info": {
   "codemirror_mode": {
    "name": "ipython",
    "version": 3
   },
   "file_extension": ".py",
   "mimetype": "text/x-python",
   "name": "python",
   "nbconvert_exporter": "python",
   "pygments_lexer": "ipython3",
   "version": "3.8.12"
  },
  "orig_nbformat": 2
 },
 "nbformat": 4,
 "nbformat_minor": 2
}