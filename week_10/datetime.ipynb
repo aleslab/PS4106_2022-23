{
 "cells": [
  {
   "cell_type": "markdown",
   "metadata": {},
   "source": [
    "# Datetime\n",
    "\n",
    "Dates are commonly presented as a human readable form in a string:\n",
    "\n",
    "December 12, 2020\n",
    "\n",
    "10/10/10\n",
    "\n",
    "Dec-31-2011\n",
    "\n",
    "\n",
    "This is a problem because computers store treat strings as strings of characters and don't know the date rules. Worse, these formats can mix Words and Numbers.  Even double worse is that even if a number date numbers behave in bizarre ways (e.g some months have 30 days, some have 31 )\n",
    "\n",
    "In order to handle dates you need to use a format that handles dates.  That's where `datetime` comes in\n",
    "\n",
    "For more details see: https://pandas.pydata.org/pandas-docs/stable/user_guide/timeseries.html"
   ]
  },
  {
   "cell_type": "code",
   "execution_count": 6,
   "metadata": {},
   "outputs": [],
   "source": [
    "#Warning, importing datetime is really confusing, and there's lots of ways \n",
    "#people do it on the internet.  \"datetime\" is both the name of the package (like pandas)\n",
    "#but is also the name of datatype.  Like we have \"pandas\" that has \"dataframes\" \n",
    "#we have \"datetime\"  that has \"datetimes\".  Therefore I suggest importing datetime as dt so that\n",
    "#it's more clear that dt refers to the package. \n",
    "\n",
    "import datetime as dt \n",
    "import pandas as pd"
   ]
  },
  {
   "cell_type": "code",
   "execution_count": 4,
   "metadata": {},
   "outputs": [
    {
     "data": {
      "text/plain": "datetime.datetime(2021, 8, 20, 9, 1, 12)"
     },
     "execution_count": 4,
     "metadata": {},
     "output_type": "execute_result"
    }
   ],
   "source": [
    "year = 2021\n",
    "day = 20\n",
    "month = 8\n",
    "hour = 9\n",
    "minute = 1\n",
    "second = 12\n",
    "\n",
    "thisVariableIsATimeStamp= dt.datetime(year, month, day, hour, minute, second)\n",
    "\n",
    "thisVariableIsATimeStamp"
   ]
  },
  {
   "cell_type": "markdown",
   "metadata": {},
   "source": [
    "So what happens when you have a column of strings in a pandas array?\n",
    "\n",
    "You can use to_datetime() to convert to a usable datetime object"
   ]
  },
  {
   "cell_type": "code",
   "execution_count": null,
   "metadata": {},
   "outputs": [],
   "source": [
    "dateExample = pd.read_csv('DateExample.csv')\n",
    "dateExample"
   ]
  },
  {
   "cell_type": "code",
   "execution_count": null,
   "metadata": {},
   "outputs": [],
   "source": [
    "pd.to_datetime(dateExample[\"Date\"], format=\"%Y%m%d\")\n",
    "\n"
   ]
  },
  {
   "cell_type": "raw",
   "metadata": {},
   "source": [
    "dateExample[\"DT\"] = pd.to_datetime(dateExample[\"Date\"], format=\"%Y%m%d\")"
   ]
  },
  {
   "cell_type": "raw",
   "metadata": {},
   "source": []
  }
 ],
 "metadata": {
  "anaconda-cloud": {},
  "kernelspec": {
   "display_name": "Python 3.8.10 64-bit ('jmaJupyterPy38': conda)",
   "name": "python3810jvsc74a57bd017445a4fc8918f5d567c21d42053b58d1bb2666d398f50777a1b4ea52e90fb83"
  },
  "language_info": {
   "name": "python",
   "version": ""
  }
 },
 "nbformat": 4,
 "nbformat_minor": 1
}